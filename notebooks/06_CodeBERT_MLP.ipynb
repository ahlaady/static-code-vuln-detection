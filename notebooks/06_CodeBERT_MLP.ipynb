{
 "cells": [
  {
   "cell_type": "markdown",
   "id": "ae18cbfa",
   "metadata": {},
   "source": [
    "# CodeBERT + MLP (with final comparisons/plots)\n",
    "\n",
    "This script shows the end-to-end pipeline for using CodeBERT embeddings with a neural model (MLP). If the DiverseVul JSONL is unavailable, the lower section still renders the final comparison plots from recorded metrics so results are visible.\n",
    "\n",
    "Sections:\n",
    "1) Load DiverseVul + sample \n",
    "2) Generate CodeBERT embeddings \n",
    "3) Train/evaluate MLP model \n",
    "4) Final comparison charts from saved/recorded metrics"
   ]
  },
  {
   "cell_type": "code",
   "execution_count": null,
   "id": "b49beb0d",
   "metadata": {},
   "outputs": [],
   "source": [
    "# Imports\n",
    "from transformers import RobertaTokenizer, RobertaModel\n",
    "import torch\n",
    "import pandas as pd\n",
    "import numpy as np\n",
    "from tqdm import tqdm\n",
    "import tensorflow as tf\n",
    "from sklearn.model_selection import train_test_split\n",
    "from sklearn.metrics import classification_report, ConfusionMatrixDisplay\n",
    "import matplotlib.pyplot as plt"
   ]
  },
  {
   "cell_type": "code",
   "execution_count": null,
   "id": "7d29d3e5",
   "metadata": {},
   "outputs": [
    {
     "data": {
      "text/html": [
       "<div>\n",
       "<style scoped>\n",
       "    .dataframe tbody tr th:only-of-type {\n",
       "        vertical-align: middle;\n",
       "    }\n",
       "\n",
       "    .dataframe tbody tr th {\n",
       "        vertical-align: top;\n",
       "    }\n",
       "\n",
       "    .dataframe thead th {\n",
       "        text-align: right;\n",
       "    }\n",
       "</style>\n",
       "<table border=\"1\" class=\"dataframe\">\n",
       "  <thead>\n",
       "    <tr style=\"text-align: right;\">\n",
       "      <th></th>\n",
       "      <th>func</th>\n",
       "      <th>target</th>\n",
       "      <th>cwe</th>\n",
       "      <th>project</th>\n",
       "      <th>commit_id</th>\n",
       "      <th>hash</th>\n",
       "      <th>size</th>\n",
       "      <th>message</th>\n",
       "    </tr>\n",
       "  </thead>\n",
       "  <tbody>\n",
       "    <tr>\n",
       "      <th>0</th>\n",
       "      <td>int _gnutls_ciphertext2compressed(gnutls_sessi...</td>\n",
       "      <td>1</td>\n",
       "      <td>[]</td>\n",
       "      <td>gnutls</td>\n",
       "      <td>7ad6162573ba79a4392c63b453ad0220ca6c5ace</td>\n",
       "      <td>73008646937836648589283922871188272089</td>\n",
       "      <td>157</td>\n",
       "      <td>added an extra check while checking the padding.</td>\n",
       "    </tr>\n",
       "    <tr>\n",
       "      <th>1</th>\n",
       "      <td>static char *make_filename_safe(const char *fi...</td>\n",
       "      <td>1</td>\n",
       "      <td>[CWE-264]</td>\n",
       "      <td>php-src</td>\n",
       "      <td>055ecbc62878e86287d742c7246c21606cee8183</td>\n",
       "      <td>211824207069112513181516095447837228041</td>\n",
       "      <td>22</td>\n",
       "      <td>Improve check for :memory: pseudo-filename in ...</td>\n",
       "    </tr>\n",
       "    <tr>\n",
       "      <th>2</th>\n",
       "      <td>unpack_Z_stream(int fd_in, int fd_out)\\n{\\n\\tI...</td>\n",
       "      <td>1</td>\n",
       "      <td>[]</td>\n",
       "      <td>busybox</td>\n",
       "      <td>251fc70e9722f931eec23a34030d05ba5f747b0e</td>\n",
       "      <td>21401706257394042943815500829552774160</td>\n",
       "      <td>232</td>\n",
       "      <td>uncompress: fix buffer underrun by corrupted i...</td>\n",
       "    </tr>\n",
       "    <tr>\n",
       "      <th>3</th>\n",
       "      <td>static void cirrus_do_copy(CirrusVGAState *s, ...</td>\n",
       "      <td>1</td>\n",
       "      <td>[CWE-787]</td>\n",
       "      <td>qemu</td>\n",
       "      <td>b2eb849d4b1fdb6f35d5c46958c7f703cf64cfef</td>\n",
       "      <td>135590882627853658533498335902319684573</td>\n",
       "      <td>66</td>\n",
       "      <td>CVE-2007-1320 - Cirrus LGD-54XX \"bitblt\" heap ...</td>\n",
       "    </tr>\n",
       "    <tr>\n",
       "      <th>4</th>\n",
       "      <td>glue(cirrus_bitblt_rop_fwd_, ROP_NAME)(CirrusV...</td>\n",
       "      <td>1</td>\n",
       "      <td>[CWE-787]</td>\n",
       "      <td>qemu</td>\n",
       "      <td>b2eb849d4b1fdb6f35d5c46958c7f703cf64cfef</td>\n",
       "      <td>27696392987383562433164405181263025184</td>\n",
       "      <td>18</td>\n",
       "      <td>CVE-2007-1320 - Cirrus LGD-54XX \"bitblt\" heap ...</td>\n",
       "    </tr>\n",
       "  </tbody>\n",
       "</table>\n",
       "</div>"
      ],
      "text/plain": [
       "                                                func  target        cwe  \\\n",
       "0  int _gnutls_ciphertext2compressed(gnutls_sessi...       1         []   \n",
       "1  static char *make_filename_safe(const char *fi...       1  [CWE-264]   \n",
       "2  unpack_Z_stream(int fd_in, int fd_out)\\n{\\n\\tI...       1         []   \n",
       "3  static void cirrus_do_copy(CirrusVGAState *s, ...       1  [CWE-787]   \n",
       "4  glue(cirrus_bitblt_rop_fwd_, ROP_NAME)(CirrusV...       1  [CWE-787]   \n",
       "\n",
       "   project                                 commit_id  \\\n",
       "0   gnutls  7ad6162573ba79a4392c63b453ad0220ca6c5ace   \n",
       "1  php-src  055ecbc62878e86287d742c7246c21606cee8183   \n",
       "2  busybox  251fc70e9722f931eec23a34030d05ba5f747b0e   \n",
       "3     qemu  b2eb849d4b1fdb6f35d5c46958c7f703cf64cfef   \n",
       "4     qemu  b2eb849d4b1fdb6f35d5c46958c7f703cf64cfef   \n",
       "\n",
       "                                      hash  size  \\\n",
       "0   73008646937836648589283922871188272089   157   \n",
       "1  211824207069112513181516095447837228041    22   \n",
       "2   21401706257394042943815500829552774160   232   \n",
       "3  135590882627853658533498335902319684573    66   \n",
       "4   27696392987383562433164405181263025184    18   \n",
       "\n",
       "                                             message  \n",
       "0   added an extra check while checking the padding.  \n",
       "1  Improve check for :memory: pseudo-filename in ...  \n",
       "2  uncompress: fix buffer underrun by corrupted i...  \n",
       "3  CVE-2007-1320 - Cirrus LGD-54XX \"bitblt\" heap ...  \n",
       "4  CVE-2007-1320 - Cirrus LGD-54XX \"bitblt\" heap ...  "
      ]
     },
     "metadata": {},
     "output_type": "display_data"
    }
   ],
   "source": [
    "import json\n",
    "\n",
    "# Loading the JSON file\n",
    "file_path = \"...diversevul_20230702.json\"       # TODO: Update this path before running\n",
    "\n",
    "# Load JSONL format line by line\n",
    "data = []\n",
    "with open(file_path, \"r\", encoding=\"utf-8\") as f:\n",
    "    for line in f:\n",
    "        data.append(json.loads(line))\n",
    "\n",
    "df = pd.DataFrame(data)\n",
    "df.head()"
   ]
  },
  {
   "cell_type": "code",
   "execution_count": null,
   "id": "2a569f77",
   "metadata": {},
   "outputs": [],
   "source": [
    "# Due to GPU contstraints of my PC, running the model on 100k samples. Feel free to adjust the samples based on GPU power available.\n",
    "# Sample balanced dataset (85K safe, 15K vulnerable)\n",
    "\n",
    "safe_df = df[df['target'] == 0].sample(85000, random_state=42)\n",
    "vuln_df = df[df['target'] == 1].sample(15000, random_state=42)\n",
    "df_100k = pd.concat([safe_df, vuln_df]).sample(frac=1, random_state=42)"
   ]
  },
  {
   "cell_type": "code",
   "execution_count": null,
   "id": "ef391263",
   "metadata": {},
   "outputs": [
    {
     "data": {
      "text/plain": [
       "RobertaModel(\n",
       "  (embeddings): RobertaEmbeddings(\n",
       "    (word_embeddings): Embedding(50265, 768, padding_idx=1)\n",
       "    (position_embeddings): Embedding(514, 768, padding_idx=1)\n",
       "    (token_type_embeddings): Embedding(1, 768)\n",
       "    (LayerNorm): LayerNorm((768,), eps=1e-05, elementwise_affine=True)\n",
       "    (dropout): Dropout(p=0.1, inplace=False)\n",
       "  )\n",
       "  (encoder): RobertaEncoder(\n",
       "    (layer): ModuleList(\n",
       "      (0-11): 12 x RobertaLayer(\n",
       "        (attention): RobertaAttention(\n",
       "          (self): RobertaSdpaSelfAttention(\n",
       "            (query): Linear(in_features=768, out_features=768, bias=True)\n",
       "            (key): Linear(in_features=768, out_features=768, bias=True)\n",
       "            (value): Linear(in_features=768, out_features=768, bias=True)\n",
       "            (dropout): Dropout(p=0.1, inplace=False)\n",
       "          )\n",
       "          (output): RobertaSelfOutput(\n",
       "            (dense): Linear(in_features=768, out_features=768, bias=True)\n",
       "            (LayerNorm): LayerNorm((768,), eps=1e-05, elementwise_affine=True)\n",
       "            (dropout): Dropout(p=0.1, inplace=False)\n",
       "          )\n",
       "        )\n",
       "        (intermediate): RobertaIntermediate(\n",
       "          (dense): Linear(in_features=768, out_features=3072, bias=True)\n",
       "          (intermediate_act_fn): GELUActivation()\n",
       "        )\n",
       "        (output): RobertaOutput(\n",
       "          (dense): Linear(in_features=3072, out_features=768, bias=True)\n",
       "          (LayerNorm): LayerNorm((768,), eps=1e-05, elementwise_affine=True)\n",
       "          (dropout): Dropout(p=0.1, inplace=False)\n",
       "        )\n",
       "      )\n",
       "    )\n",
       "  )\n",
       "  (pooler): RobertaPooler(\n",
       "    (dense): Linear(in_features=768, out_features=768, bias=True)\n",
       "    (activation): Tanh()\n",
       "  )\n",
       ")"
      ]
     },
     "metadata": {},
     "output_type": "display_data"
    }
   ],
   "source": [
    "# Load CodeBERT (Microsoft's pretrained model)\n",
    "# Microsoft's CodeBERT (trained on NL-PL pairs) is used for feature extraction\n",
    "\n",
    "tokenizer = RobertaTokenizer.from_pretrained(\"microsoft/codebert-base\")\n",
    "model = RobertaModel.from_pretrained(\"microsoft/codebert-base\")\n",
    "model.eval()  # inference mode only"
   ]
  },
  {
   "cell_type": "code",
   "execution_count": null,
   "id": "38ddd1fb",
   "metadata": {},
   "outputs": [
    {
     "data": {
      "text/plain": [
       "RobertaModel(\n",
       "  (embeddings): RobertaEmbeddings(\n",
       "    (word_embeddings): Embedding(50265, 768, padding_idx=1)\n",
       "    (position_embeddings): Embedding(514, 768, padding_idx=1)\n",
       "    (token_type_embeddings): Embedding(1, 768)\n",
       "    (LayerNorm): LayerNorm((768,), eps=1e-05, elementwise_affine=True)\n",
       "    (dropout): Dropout(p=0.1, inplace=False)\n",
       "  )\n",
       "  (encoder): RobertaEncoder(\n",
       "    (layer): ModuleList(\n",
       "      (0-11): 12 x RobertaLayer(\n",
       "        (attention): RobertaAttention(\n",
       "          (self): RobertaSdpaSelfAttention(\n",
       "            (query): Linear(in_features=768, out_features=768, bias=True)\n",
       "            (key): Linear(in_features=768, out_features=768, bias=True)\n",
       "            (value): Linear(in_features=768, out_features=768, bias=True)\n",
       "            (dropout): Dropout(p=0.1, inplace=False)\n",
       "          )\n",
       "          (output): RobertaSelfOutput(\n",
       "            (dense): Linear(in_features=768, out_features=768, bias=True)\n",
       "            (LayerNorm): LayerNorm((768,), eps=1e-05, elementwise_affine=True)\n",
       "            (dropout): Dropout(p=0.1, inplace=False)\n",
       "          )\n",
       "        )\n",
       "        (intermediate): RobertaIntermediate(\n",
       "          (dense): Linear(in_features=768, out_features=3072, bias=True)\n",
       "          (intermediate_act_fn): GELUActivation()\n",
       "        )\n",
       "        (output): RobertaOutput(\n",
       "          (dense): Linear(in_features=3072, out_features=768, bias=True)\n",
       "          (LayerNorm): LayerNorm((768,), eps=1e-05, elementwise_affine=True)\n",
       "          (dropout): Dropout(p=0.1, inplace=False)\n",
       "        )\n",
       "      )\n",
       "    )\n",
       "  )\n",
       "  (pooler): RobertaPooler(\n",
       "    (dense): Linear(in_features=768, out_features=768, bias=True)\n",
       "    (activation): Tanh()\n",
       "  )\n",
       ")"
      ]
     },
     "metadata": {},
     "output_type": "display_data"
    }
   ],
   "source": [
    "# Move model to GPU if available\n",
    "\n",
    "import torch\n",
    "device = torch.device(\"cuda\" if torch.cuda.is_available() else \"cpu\")\n",
    "model.to(device)"
   ]
  },
  {
   "cell_type": "code",
   "execution_count": null,
   "id": "86664a68",
   "metadata": {},
   "outputs": [],
   "source": [
    "# Using a 20K sample for faster processing (adjust if hardware allows)\n",
    "sample_df = df_100k.sample(20000, random_state=42)\n",
    "texts = sample_df[\"func\"].tolist()\n",
    "labels = sample_df[\"target\"].tolist()"
   ]
  },
  {
   "cell_type": "code",
   "execution_count": null,
   "id": "37ba0554",
   "metadata": {},
   "outputs": [
    {
     "name": "stderr",
     "output_type": "stream",
     "text": [
      "100%|██████████| 20000/20000 [04:36<00:00, 72.44it/s]\n"
     ]
    }
   ],
   "source": [
    "# Generate CodeBERT Embeddings\n",
    "# Extract [CLS] token embedding (representing the whole function)\n",
    "\n",
    "embeddings = []\n",
    "\n",
    "with torch.no_grad():\n",
    "    for code in tqdm(texts):\n",
    "        inputs = tokenizer(code, return_tensors=\"pt\", max_length=512, truncation=True, padding=\"max_length\")\n",
    "        inputs = {key: val.to(device) for key, val in inputs.items()}  # Move inputs to GPU\n",
    "        outputs = model(**inputs)\n",
    "        cls_embedding = outputs.last_hidden_state[:, 0, :].squeeze().cpu().numpy()  # Move to CPU\n",
    "        embeddings.append(cls_embedding)\n",
    "\n",
    "X = np.array(embeddings)\n",
    "y = np.array(labels)"
   ]
  },
  {
   "cell_type": "code",
   "execution_count": null,
   "id": "b2deab15",
   "metadata": {},
   "outputs": [],
   "source": [
    "# Train/Test Split\n",
    "X_train, X_test, y_train, y_test = train_test_split(\n",
    "    X, y, test_size=0.2, stratify=y, random_state=42\n",
    ")"
   ]
  },
  {
   "cell_type": "code",
   "execution_count": null,
   "id": "f3d33ae8",
   "metadata": {},
   "outputs": [],
   "source": [
    "# Define the MLP model\n",
    "# Simple feed-forward neural network with dropout for regularization\n",
    "\n",
    "model = tf.keras.Sequential([\n",
    "    tf.keras.layers.Input(shape=(X.shape[1],)),\n",
    "    tf.keras.layers.Dense(512, activation='relu'),\n",
    "    tf.keras.layers.Dropout(0.3),\n",
    "    tf.keras.layers.Dense(128, activation='relu'),\n",
    "    tf.keras.layers.Dropout(0.3),\n",
    "    tf.keras.layers.Dense(1, activation='sigmoid')          # Binary classification output\n",
    "])"
   ]
  },
  {
   "cell_type": "code",
   "execution_count": null,
   "id": "e3b3cc91",
   "metadata": {},
   "outputs": [],
   "source": [
    "#Compile model with Adam optimizer and binary crossentropy loss\n",
    "model.compile(optimizer='adam', loss='binary_crossentropy', metrics=['accuracy'])"
   ]
  },
  {
   "cell_type": "code",
   "execution_count": null,
   "id": "75c1c6ee",
   "metadata": {},
   "outputs": [],
   "source": [
    "#Train (with smaller batch size to avoid OOM)\n",
    "history = model.fit(X_train, y_train, epochs=10, batch_size=128, validation_split=0.1)"
   ]
  },
  {
   "cell_type": "code",
   "execution_count": null,
   "id": "4c23289f",
   "metadata": {},
   "outputs": [],
   "source": [
    "# Predict & Evaluate\n",
    "y_pred = (model.predict(X_test) > 0.5).astype(\"int32\")\n",
    "print(classification_report(y_test, y_pred))"
   ]
  },
  {
   "cell_type": "code",
   "execution_count": null,
   "id": "292a32f4",
   "metadata": {},
   "outputs": [],
   "source": [
    "from sklearn.metrics import confusion_matrix, ConfusionMatrixDisplay\n",
    "\n",
    "# Generate confusion matrix\n",
    "cm = confusion_matrix(y_test, y_pred, labels=[0, 1])\n",
    "\n",
    "# Plot confusion matrix\n",
    "disp = ConfusionMatrixDisplay(confusion_matrix=cm, display_labels=[\"Safe\", \"Vuln\"])\n",
    "disp.plot(cmap='Blues')\n",
    "plt.title(\"Confusion Matrix - MLP\")\n",
    "plt.show()"
   ]
  },
  {
   "cell_type": "code",
   "execution_count": null,
   "id": "25c3478b",
   "metadata": {},
   "outputs": [],
   "source": [
    "# Plotting graphs for MLP\n",
    "import seaborn as sns\n",
    "\n",
    "# Count plot for predicted labels\n",
    "ax = sns.countplot(x=y_pred.flatten())\n",
    "plt.title(\"Predicted Class Distribution - MLP\")\n",
    "plt.xlabel(\"Predicted Class\")\n",
    "plt.ylabel(\"Count\")\n",
    "plt.xticks([0, 1], [\"Safe\", \"Vuln\"])\n",
    "\n",
    "# Add value labels\n",
    "for p in ax.patches:\n",
    "    ax.annotate(f'{p.get_height()}', (p.get_x() + p.get_width() / 2., p.get_height()),\n",
    "                ha='center', va='bottom')\n",
    "\n",
    "plt.show()"
   ]
  },
  {
   "cell_type": "code",
   "execution_count": null,
   "id": "514aa6b7",
   "metadata": {},
   "outputs": [],
   "source": [
    "# Plotting graphs for MLP\n",
    "from sklearn.metrics import classification_report\n",
    "import pandas as pd\n",
    "import matplotlib.pyplot as plt\n",
    "\n",
    "# Generate report and extract class 0 and 1\n",
    "report = classification_report(y_test, y_pred, output_dict=True)\n",
    "df_report = pd.DataFrame(report).transpose()\n",
    "metrics = df_report.loc[[\"0\", \"1\"], [\"precision\", \"recall\", \"f1-score\"]]\n",
    "\n",
    "# Plot\n",
    "ax = metrics.plot(kind='bar')\n",
    "plt.title(\"Precision, Recall, F1-score by Class\")\n",
    "plt.xticks([0, 1], [\"Safe (0)\", \"Vuln (1)\"], rotation=0)\n",
    "plt.ylim(0, 1)\n",
    "plt.grid(axis='y')\n",
    "\n",
    "# Add values on bars\n",
    "for p in ax.patches:\n",
    "    ax.annotate(f'{p.get_height():.2f}', (p.get_x() + p.get_width() / 2., p.get_height() + 0.02),\n",
    "                ha='center', va='bottom')\n",
    "\n",
    "plt.show()\n"
   ]
  },
  {
   "cell_type": "code",
   "execution_count": null,
   "id": "00dab55a",
   "metadata": {},
   "outputs": [],
   "source": []
  },
  {
   "cell_type": "code",
   "execution_count": 4,
   "id": "d4e2a8ff",
   "metadata": {},
   "outputs": [
    {
     "ename": "ModuleNotFoundError",
     "evalue": "No module named 'ace_tools'",
     "output_type": "error",
     "traceback": [
      "\u001b[0;31m---------------------------------------------------------------------------\u001b[0m",
      "\u001b[0;31mModuleNotFoundError\u001b[0m                       Traceback (most recent call last)",
      "Cell \u001b[0;32mIn[4], line 4\u001b[0m\n\u001b[1;32m      2\u001b[0m \u001b[38;5;28;01mimport\u001b[39;00m\u001b[38;5;250m \u001b[39m\u001b[38;5;21;01mpandas\u001b[39;00m\u001b[38;5;250m \u001b[39m\u001b[38;5;28;01mas\u001b[39;00m\u001b[38;5;250m \u001b[39m\u001b[38;5;21;01mpd\u001b[39;00m\n\u001b[1;32m      3\u001b[0m \u001b[38;5;28;01mimport\u001b[39;00m\u001b[38;5;250m \u001b[39m\u001b[38;5;21;01mseaborn\u001b[39;00m\u001b[38;5;250m \u001b[39m\u001b[38;5;28;01mas\u001b[39;00m\u001b[38;5;250m \u001b[39m\u001b[38;5;21;01msns\u001b[39;00m\n\u001b[0;32m----> 4\u001b[0m \u001b[38;5;28;01mimport\u001b[39;00m\u001b[38;5;250m \u001b[39m\u001b[38;5;21;01mace_tools\u001b[39;00m\u001b[38;5;250m \u001b[39m\u001b[38;5;28;01mas\u001b[39;00m\u001b[38;5;250m \u001b[39m\u001b[38;5;21;01mtools\u001b[39;00m\n\u001b[1;32m      6\u001b[0m \u001b[38;5;66;03m# Define the data again after kernel reset\u001b[39;00m\n\u001b[1;32m      7\u001b[0m data \u001b[38;5;241m=\u001b[39m {\n\u001b[1;32m      8\u001b[0m     \u001b[38;5;124m\"\u001b[39m\u001b[38;5;124mModel\u001b[39m\u001b[38;5;124m\"\u001b[39m: [\n\u001b[1;32m      9\u001b[0m         \u001b[38;5;124m\"\u001b[39m\u001b[38;5;124mTF-IDF + SVM (100k)\u001b[39m\u001b[38;5;124m\"\u001b[39m, \u001b[38;5;124m\"\u001b[39m\u001b[38;5;124mTF-IDF + LR (100k)\u001b[39m\u001b[38;5;124m\"\u001b[39m, \u001b[38;5;124m\"\u001b[39m\u001b[38;5;124mTF-IDF + RF (100k)\u001b[39m\u001b[38;5;124m\"\u001b[39m, \u001b[38;5;124m\"\u001b[39m\u001b[38;5;124mTF-IDF + MLP (50k)\u001b[39m\u001b[38;5;124m\"\u001b[39m,\n\u001b[0;32m   (...)\u001b[0m\n\u001b[1;32m     15\u001b[0m     \u001b[38;5;124m\"\u001b[39m\u001b[38;5;124mF1-score\u001b[39m\u001b[38;5;124m\"\u001b[39m: [\u001b[38;5;241m0.49\u001b[39m, \u001b[38;5;241m0.48\u001b[39m, \u001b[38;5;241m0.27\u001b[39m, \u001b[38;5;241m0.35\u001b[39m, \u001b[38;5;241m0.39\u001b[39m, \u001b[38;5;241m0.28\u001b[39m, \u001b[38;5;241m0.38\u001b[39m, \u001b[38;5;241m0.40\u001b[39m]\n\u001b[1;32m     16\u001b[0m }\n",
      "\u001b[0;31mModuleNotFoundError\u001b[0m: No module named 'ace_tools'"
     ]
    }
   ],
   "source": [
    "import matplotlib.pyplot as plt\n",
    "import pandas as pd\n",
    "import seaborn as sns\n",
    "import ace_tools as tools\n",
    "\n",
    "# Define the data again after kernel reset\n",
    "data = {\n",
    "    \"Model\": [\n",
    "        \"TF-IDF + SVM (100k)\", \"TF-IDF + LR (100k)\", \"TF-IDF + RF (100k)\", \"TF-IDF + MLP (50k)\",\n",
    "        \"TF-IDF + MLP (20k)\", \"TF-IDF + RF (20k)\", \"CodeBERT + LR (20k)\", \"CodeBERT + MLP (50k)\"\n",
    "    ],\n",
    "    \"Accuracy\": [0.80, 0.79, 0.85, 0.82, 0.74, 0.73, 0.68, 0.75],\n",
    "    \"Precision\": [0.40, 0.38, 0.48, 0.38, 0.30, 0.21, 0.27, 0.32],\n",
    "    \"Recall\": [0.64, 0.64, 0.19, 0.33, 0.57, 0.42, 0.67, 0.54],\n",
    "    \"F1-score\": [0.49, 0.48, 0.27, 0.35, 0.39, 0.28, 0.38, 0.40]\n",
    "}\n",
    "\n",
    "# Convert to DataFrame\n",
    "df = pd.DataFrame(data)\n",
    "\n",
    "# Melt for grouped barplot\n",
    "df_melted = df.melt(id_vars=\"Model\", var_name=\"Metric\", value_name=\"Score\")\n",
    "\n",
    "# Plot\n",
    "plt.figure(figsize=(14, 6))\n",
    "sns.barplot(data=df_melted, x=\"Model\", y=\"Score\", hue=\"Metric\")\n",
    "plt.xticks(rotation=45, ha='right')\n",
    "plt.title(\"Model Comparison on Vulnerability Detection (Label=1)\")\n",
    "plt.tight_layout()\n",
    "\n",
    "tools.display_dataframe_to_user(name=\"Model Performance Data\", dataframe=df)"
   ]
  },
  {
   "cell_type": "code",
   "execution_count": 5,
   "id": "102defda",
   "metadata": {},
   "outputs": [
    {
     "data": {
      "image/png": "[encoded data removed]",
      "text/plain": [
       "<Figure size 1200x600 with 1 Axes>"
      ]
     },
     "metadata": {},
     "output_type": "display_data"
    }
   ],
   "source": [
    "import matplotlib.pyplot as plt\n",
    "import pandas as pd\n",
    "\n",
    "data = {\n",
    "    \"Model\": [\n",
    "        \"TF-IDF + SVM (100k)\",\n",
    "        \"TF-IDF + LR (100k)\",\n",
    "        \"TF-IDF + RF (100k)\",\n",
    "        \"TF-IDF + MLP (50k)\",\n",
    "        \"TF-IDF + MLP (20k)\",\n",
    "        \"TF-IDF + RF (20k)\",\n",
    "        \"CodeBERT + LR (20k)\",\n",
    "        \"CodeBERT + MLP (50k)\"\n",
    "    ],\n",
    "    \"F1-score\": [0.49, 0.48, 0.27, 0.35, 0.39, 0.28, 0.38, 0.40],\n",
    "    \"Precision\": [0.40, 0.38, 0.48, 0.38, 0.30, 0.21, 0.27, 0.32],\n",
    "    \"Recall\": [0.64, 0.64, 0.19, 0.33, 0.57, 0.42, 0.67, 0.54],\n",
    "    \"Accuracy\": [0.80, 0.79, 0.85, 0.82, 0.74, 0.73, 0.68, 0.75]\n",
    "}\n",
    "\n",
    "df = pd.DataFrame(data)\n",
    "df.set_index(\"Model\", inplace=True)\n",
    "df.plot(kind=\"bar\", figsize=(12, 6))\n",
    "plt.title(\"Comparison of ML Models for Vulnerability Detection\")\n",
    "plt.ylabel(\"Score\")\n",
    "plt.ylim(0, 1)\n",
    "plt.xticks(rotation=45, ha='right')\n",
    "plt.grid(axis=\"y\")\n",
    "plt.tight_layout()\n",
    "plt.show()"
   ]
  },
  {
   "cell_type": "code",
   "execution_count": 6,
   "id": "ad2f9530",
   "metadata": {},
   "outputs": [
    {
     "data": {
      "image/png": "[encoded data removed]",
      "text/plain": [
       "<Figure size 1200x600 with 1 Axes>"
      ]
     },
     "metadata": {},
     "output_type": "display_data"
    }
   ],
   "source": [
    "# Re-run code after environment reset\n",
    "import matplotlib.pyplot as plt\n",
    "import pandas as pd\n",
    "import numpy as np\n",
    "\n",
    "# Data for 6 models with 4 metrics\n",
    "models = [\n",
    "    \"TF-IDF + SVM\", \"TF-IDF + LR\", \"TF-IDF + RF\", \"TF-IDF + MLP\",\n",
    "    \"CodeBERT + LR\", \"CodeBERT + MLP\"\n",
    "]\n",
    "precision = [0.40, 0.38, 0.48, 0.33, 0.32, 0.35]\n",
    "recall = [0.64, 0.67, 0.19, 0.30, 0.54, 0.29]\n",
    "f1 = [0.49, 0.38, 0.19, 0.33, 0.40, 0.32]\n",
    "accuracy = [0.80, 0.68, 0.85, 0.75, 0.75, 0.74]\n",
    "\n",
    "# Create DataFrame\n",
    "df = pd.DataFrame({\n",
    "    \"Model\": models,\n",
    "    \"Precision\": precision,\n",
    "    \"Recall\": recall,\n",
    "    \"F1-Score\": f1,\n",
    "    \"Accuracy\": accuracy\n",
    "})\n",
    "\n",
    "# Melt DataFrame for grouped bar plot\n",
    "df_melted = df.melt(id_vars=\"Model\", var_name=\"Metric\", value_name=\"Score\")\n",
    "\n",
    "# Plot\n",
    "plt.figure(figsize=(12, 6))\n",
    "ax = plt.subplot()\n",
    "colors = [\"#4daf4a\", \"#377eb8\", \"#ff7f00\", \"#984ea3\"]\n",
    "df_melted[\"Metric\"] = pd.Categorical(df_melted[\"Metric\"], categories=[\"Precision\", \"Recall\", \"F1-Score\", \"Accuracy\"])\n",
    "df_melted = df_melted.sort_values(by=[\"Model\", \"Metric\"])\n",
    "df_melted.reset_index(drop=True, inplace=True)\n",
    "\n",
    "# Bar plot\n",
    "for i, metric in enumerate([\"Precision\", \"Recall\", \"F1-Score\", \"Accuracy\"]):\n",
    "    metric_data = df_melted[df_melted[\"Metric\"] == metric]\n",
    "    ax.bar(np.arange(len(models)) + i * 0.2, metric_data[\"Score\"], width=0.2, label=metric, color=colors[i])\n",
    "\n",
    "ax.set_xticks(np.arange(len(models)) + 0.3)\n",
    "ax.set_xticklabels(models, rotation=30, ha=\"right\")\n",
    "ax.set_ylim(0, 1)\n",
    "ax.set_ylabel(\"Score\")\n",
    "ax.set_title(\"Comparison of ML Models on Vulnerability Detection (Vulnerable Class)\")\n",
    "ax.legend()\n",
    "\n",
    "plt.tight_layout()\n",
    "plt.show()"
   ]
  },
  {
   "cell_type": "code",
   "execution_count": null,
   "id": "a7bd8c2f",
   "metadata": {},
   "outputs": [],
   "source": []
  },
  {
   "cell_type": "code",
   "execution_count": null,
   "id": "3004fec9",
   "metadata": {},
   "outputs": [],
   "source": []
  },
  {
   "cell_type": "code",
   "execution_count": null,
   "id": "45cbc2f0",
   "metadata": {},
   "outputs": [],
   "source": []
  }
 ],
 "metadata": {
  "kernelspec": {
   "display_name": "vulnml",
   "language": "python",
   "name": "python3"
  },
  "language_info": {
   "codemirror_mode": {
    "name": "ipython",
    "version": 3
   },
   "file_extension": ".py",
   "mimetype": "text/x-python",
   "name": "python",
   "nbconvert_exporter": "python",
   "pygments_lexer": "ipython3",
   "version": "3.10.16"
  }
 },
 "nbformat": 4,
 "nbformat_minor": 5
}
