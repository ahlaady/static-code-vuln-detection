{
 "cells": [
  {
   "cell_type": "markdown",
   "id": "2f79cb95",
   "metadata": {},
   "source": [
    "# 🔍 MLP for Vulnerability Detection\n",
    "\n",
    "This script trains a Multi-Layer Perceptron (MLP) model to detect vulnerable source code functions using TF-IDF feature representations extracted from the DiverseVul dataset.\n",
    "\n",
    "Steps:\n",
    "1. Load and sample the DiverseVul dataset\n",
    "2. Convert code text to TF-IDF vectors\n",
    "3. Train an MLP classifier using TensorFlow/Keras\n",
    "4. Evaluate the model with metrics and visualizations"
   ]
  },
  {
   "cell_type": "code",
   "execution_count": null,
   "id": "6bea8e2f",
   "metadata": {},
   "outputs": [],
   "source": [
    "# Force TensorFlow to not use GPU memory (optional safeguard)\n",
    "\n",
    "import os\n",
    "os.environ[\"CUDA_VISIBLE_DEVICES\"] = \"\"\n",
    "os.environ[\"TF_CPP_MIN_LOG_LEVEL\"] = \"3\""
   ]
  },
  {
   "cell_type": "code",
   "execution_count": null,
   "id": "c030c46c",
   "metadata": {},
   "outputs": [
    {
     "name": "stderr",
     "output_type": "stream",
     "text": [
      "WARNING: All log messages before absl::InitializeLog() is called are written to STDERR\n",
      "E0000 00:00:1746058035.915086   30604 cuda_dnn.cc:8579] Unable to register cuDNN factory: Attempting to register factory for plugin cuDNN when one has already been registered\n",
      "E0000 00:00:1746058035.942456   30604 cuda_blas.cc:1407] Unable to register cuBLAS factory: Attempting to register factory for plugin cuBLAS when one has already been registered\n",
      "W0000 00:00:1746058036.123849   30604 computation_placer.cc:177] computation placer already registered. Please check linkage and avoid linking the same target more than once.\n",
      "W0000 00:00:1746058036.123917   30604 computation_placer.cc:177] computation placer already registered. Please check linkage and avoid linking the same target more than once.\n",
      "W0000 00:00:1746058036.123919   30604 computation_placer.cc:177] computation placer already registered. Please check linkage and avoid linking the same target more than once.\n",
      "W0000 00:00:1746058036.123921   30604 computation_placer.cc:177] computation placer already registered. Please check linkage and avoid linking the same target more than once.\n"
     ]
    }
   ],
   "source": [
    "# Imports\n",
    "import tensorflow as tf\n",
    "from sklearn.feature_extraction.text import TfidfVectorizer\n",
    "from sklearn.model_selection import train_test_split\n",
    "from sklearn.metrics import classification_report"
   ]
  },
  {
   "cell_type": "code",
   "execution_count": null,
   "id": "14db3cab",
   "metadata": {},
   "outputs": [],
   "source": [
    "import pandas as pd\n",
    "import numpy as np\n",
    "from sklearn.feature_extraction.text import TfidfVectorizer\n",
    "from sklearn.model_selection import train_test_split\n",
    "from sklearn.metrics import classification_report, ConfusionMatrixDisplay\n",
    "import matplotlib.pyplot as plt"
   ]
  },
  {
   "cell_type": "code",
   "execution_count": null,
   "id": "d243a9a8",
   "metadata": {},
   "outputs": [
    {
     "data": {
      "text/html": [
       "<div>\n",
       "<style scoped>\n",
       "    .dataframe tbody tr th:only-of-type {\n",
       "        vertical-align: middle;\n",
       "    }\n",
       "\n",
       "    .dataframe tbody tr th {\n",
       "        vertical-align: top;\n",
       "    }\n",
       "\n",
       "    .dataframe thead th {\n",
       "        text-align: right;\n",
       "    }\n",
       "</style>\n",
       "<table border=\"1\" class=\"dataframe\">\n",
       "  <thead>\n",
       "    <tr style=\"text-align: right;\">\n",
       "      <th></th>\n",
       "      <th>func</th>\n",
       "      <th>target</th>\n",
       "      <th>cwe</th>\n",
       "      <th>project</th>\n",
       "      <th>commit_id</th>\n",
       "      <th>hash</th>\n",
       "      <th>size</th>\n",
       "      <th>message</th>\n",
       "    </tr>\n",
       "  </thead>\n",
       "  <tbody>\n",
       "    <tr>\n",
       "      <th>0</th>\n",
       "      <td>int _gnutls_ciphertext2compressed(gnutls_sessi...</td>\n",
       "      <td>1</td>\n",
       "      <td>[]</td>\n",
       "      <td>gnutls</td>\n",
       "      <td>7ad6162573ba79a4392c63b453ad0220ca6c5ace</td>\n",
       "      <td>73008646937836648589283922871188272089</td>\n",
       "      <td>157</td>\n",
       "      <td>added an extra check while checking the padding.</td>\n",
       "    </tr>\n",
       "    <tr>\n",
       "      <th>1</th>\n",
       "      <td>static char *make_filename_safe(const char *fi...</td>\n",
       "      <td>1</td>\n",
       "      <td>[CWE-264]</td>\n",
       "      <td>php-src</td>\n",
       "      <td>055ecbc62878e86287d742c7246c21606cee8183</td>\n",
       "      <td>211824207069112513181516095447837228041</td>\n",
       "      <td>22</td>\n",
       "      <td>Improve check for :memory: pseudo-filename in ...</td>\n",
       "    </tr>\n",
       "    <tr>\n",
       "      <th>2</th>\n",
       "      <td>unpack_Z_stream(int fd_in, int fd_out)\\n{\\n\\tI...</td>\n",
       "      <td>1</td>\n",
       "      <td>[]</td>\n",
       "      <td>busybox</td>\n",
       "      <td>251fc70e9722f931eec23a34030d05ba5f747b0e</td>\n",
       "      <td>21401706257394042943815500829552774160</td>\n",
       "      <td>232</td>\n",
       "      <td>uncompress: fix buffer underrun by corrupted i...</td>\n",
       "    </tr>\n",
       "    <tr>\n",
       "      <th>3</th>\n",
       "      <td>static void cirrus_do_copy(CirrusVGAState *s, ...</td>\n",
       "      <td>1</td>\n",
       "      <td>[CWE-787]</td>\n",
       "      <td>qemu</td>\n",
       "      <td>b2eb849d4b1fdb6f35d5c46958c7f703cf64cfef</td>\n",
       "      <td>135590882627853658533498335902319684573</td>\n",
       "      <td>66</td>\n",
       "      <td>CVE-2007-1320 - Cirrus LGD-54XX \"bitblt\" heap ...</td>\n",
       "    </tr>\n",
       "    <tr>\n",
       "      <th>4</th>\n",
       "      <td>glue(cirrus_bitblt_rop_fwd_, ROP_NAME)(CirrusV...</td>\n",
       "      <td>1</td>\n",
       "      <td>[CWE-787]</td>\n",
       "      <td>qemu</td>\n",
       "      <td>b2eb849d4b1fdb6f35d5c46958c7f703cf64cfef</td>\n",
       "      <td>27696392987383562433164405181263025184</td>\n",
       "      <td>18</td>\n",
       "      <td>CVE-2007-1320 - Cirrus LGD-54XX \"bitblt\" heap ...</td>\n",
       "    </tr>\n",
       "  </tbody>\n",
       "</table>\n",
       "</div>"
      ],
      "text/plain": [
       "                                                func  target        cwe  \\\n",
       "0  int _gnutls_ciphertext2compressed(gnutls_sessi...       1         []   \n",
       "1  static char *make_filename_safe(const char *fi...       1  [CWE-264]   \n",
       "2  unpack_Z_stream(int fd_in, int fd_out)\\n{\\n\\tI...       1         []   \n",
       "3  static void cirrus_do_copy(CirrusVGAState *s, ...       1  [CWE-787]   \n",
       "4  glue(cirrus_bitblt_rop_fwd_, ROP_NAME)(CirrusV...       1  [CWE-787]   \n",
       "\n",
       "   project                                 commit_id  \\\n",
       "0   gnutls  7ad6162573ba79a4392c63b453ad0220ca6c5ace   \n",
       "1  php-src  055ecbc62878e86287d742c7246c21606cee8183   \n",
       "2  busybox  251fc70e9722f931eec23a34030d05ba5f747b0e   \n",
       "3     qemu  b2eb849d4b1fdb6f35d5c46958c7f703cf64cfef   \n",
       "4     qemu  b2eb849d4b1fdb6f35d5c46958c7f703cf64cfef   \n",
       "\n",
       "                                      hash  size  \\\n",
       "0   73008646937836648589283922871188272089   157   \n",
       "1  211824207069112513181516095447837228041    22   \n",
       "2   21401706257394042943815500829552774160   232   \n",
       "3  135590882627853658533498335902319684573    66   \n",
       "4   27696392987383562433164405181263025184    18   \n",
       "\n",
       "                                             message  \n",
       "0   added an extra check while checking the padding.  \n",
       "1  Improve check for :memory: pseudo-filename in ...  \n",
       "2  uncompress: fix buffer underrun by corrupted i...  \n",
       "3  CVE-2007-1320 - Cirrus LGD-54XX \"bitblt\" heap ...  \n",
       "4  CVE-2007-1320 - Cirrus LGD-54XX \"bitblt\" heap ...  "
      ]
     },
     "execution_count": 4,
     "metadata": {},
     "output_type": "execute_result"
    }
   ],
   "source": [
    "import json\n",
    "\n",
    "# Loading the JSON file\n",
    "file_path = \"...diversevul_20230702.json\"       # TODO: Update this path before running\n",
    "\n",
    "# Load JSONL format line by line\n",
    "data = []\n",
    "with open(file_path, \"r\", encoding=\"utf-8\") as f:\n",
    "    for line in f:\n",
    "        data.append(json.loads(line))\n",
    "\n",
    "# Inspect dataset quickly \n",
    "df = pd.DataFrame(data)\n",
    "df.head()"
   ]
  },
  {
   "cell_type": "code",
   "execution_count": null,
   "id": "b24911ba",
   "metadata": {},
   "outputs": [],
   "source": [
    "# Due to GPU contstraints of my PC, running the model on 100k samples. Feel free to adjust the samples based on GPU power available.\n",
    "# Sample balanced dataset (85K safe, 15K vulnerable)\n",
    " \n",
    "safe_df = df[df['target'] == 0].sample(85000, random_state=42)\n",
    "vuln_df = df[df['target'] == 1].sample(15000, random_state=42)\n",
    "df_100k = pd.concat([safe_df, vuln_df]).sample(frac=1, random_state=42)\n",
    "\n",
    "texts = df_100k['func'].tolist()\n",
    "labels = df_100k['target'].tolist()"
   ]
  },
  {
   "cell_type": "code",
   "execution_count": null,
   "id": "212f5349",
   "metadata": {},
   "outputs": [],
   "source": [
    "import numpy as np\n",
    "\n",
    "# STEP 1: TF-IDF with 5000 features (safe upper bound)\n",
    "vectorizer = TfidfVectorizer(max_features=5000)\n",
    "X = vectorizer.fit_transform(texts[:50000]).toarray()           # Using 50K samples for safety\n",
    "y = np.array(labels[:50000])"
   ]
  },
  {
   "cell_type": "code",
   "execution_count": 7,
   "id": "7f839856",
   "metadata": {},
   "outputs": [],
   "source": [
    "# Train-test split\n",
    "X_train, X_test, y_train, y_test = train_test_split(\n",
    "    X, y, test_size=0.2, stratify=y, random_state=42\n",
    ")"
   ]
  },
  {
   "cell_type": "code",
   "execution_count": null,
   "id": "58837fc5",
   "metadata": {},
   "outputs": [],
   "source": [
    "# STEP 3: Define the MLP model\n",
    "# Simple feed-forward neural network with dropout for regularization\n",
    "\n",
    "model = tf.keras.Sequential([\n",
    "    tf.keras.layers.Input(shape=(X.shape[1],)),\n",
    "    tf.keras.layers.Dense(512, activation='relu'),\n",
    "    tf.keras.layers.Dropout(0.3),\n",
    "    tf.keras.layers.Dense(128, activation='relu'),\n",
    "    tf.keras.layers.Dropout(0.3),\n",
    "    tf.keras.layers.Dense(1, activation='sigmoid')          # Binary classification output\n",
    "])"
   ]
  },
  {
   "cell_type": "code",
   "execution_count": null,
   "id": "9cc8eb3d",
   "metadata": {},
   "outputs": [],
   "source": [
    "# STEP 4: Compile model with Adam optimizer and binary crossentropy loss\n",
    "model.compile(optimizer='adam', loss='binary_crossentropy', metrics=['accuracy'])\n"
   ]
  },
  {
   "cell_type": "code",
   "execution_count": 10,
   "id": "d76f59eb",
   "metadata": {},
   "outputs": [
    {
     "name": "stdout",
     "output_type": "stream",
     "text": [
      "Epoch 1/10\n",
      "\u001b[1m282/282\u001b[0m \u001b[32m━━━━━━━━━━━━━━━━━━━━\u001b[0m\u001b[37m\u001b[0m \u001b[1m9s\u001b[0m 16ms/step - accuracy: 0.8470 - loss: 0.4403 - val_accuracy: 0.8545 - val_loss: 0.3769\n",
      "Epoch 2/10\n",
      "\u001b[1m282/282\u001b[0m \u001b[32m━━━━━━━━━━━━━━━━━━━━\u001b[0m\u001b[37m\u001b[0m \u001b[1m5s\u001b[0m 16ms/step - accuracy: 0.8509 - loss: 0.3451 - val_accuracy: 0.8577 - val_loss: 0.3766\n",
      "Epoch 3/10\n",
      "\u001b[1m282/282\u001b[0m \u001b[32m━━━━━━━━━━━━━━━━━━━━\u001b[0m\u001b[37m\u001b[0m \u001b[1m5s\u001b[0m 16ms/step - accuracy: 0.8760 - loss: 0.2980 - val_accuracy: 0.8530 - val_loss: 0.3980\n",
      "Epoch 4/10\n",
      "\u001b[1m282/282\u001b[0m \u001b[32m━━━━━━━━━━━━━━━━━━━━\u001b[0m\u001b[37m\u001b[0m \u001b[1m5s\u001b[0m 16ms/step - accuracy: 0.9052 - loss: 0.2452 - val_accuracy: 0.8365 - val_loss: 0.4355\n",
      "Epoch 5/10\n",
      "\u001b[1m282/282\u001b[0m \u001b[32m━━━━━━━━━━━━━━━━━━━━\u001b[0m\u001b[37m\u001b[0m \u001b[1m5s\u001b[0m 16ms/step - accuracy: 0.9333 - loss: 0.1786 - val_accuracy: 0.8425 - val_loss: 0.4738\n",
      "Epoch 6/10\n",
      "\u001b[1m282/282\u001b[0m \u001b[32m━━━━━━━━━━━━━━━━━━━━\u001b[0m\u001b[37m\u001b[0m \u001b[1m7s\u001b[0m 23ms/step - accuracy: 0.9494 - loss: 0.1318 - val_accuracy: 0.8260 - val_loss: 0.5577\n",
      "Epoch 7/10\n",
      "\u001b[1m282/282\u001b[0m \u001b[32m━━━━━━━━━━━━━━━━━━━━\u001b[0m\u001b[37m\u001b[0m \u001b[1m4s\u001b[0m 15ms/step - accuracy: 0.9607 - loss: 0.1020 - val_accuracy: 0.8338 - val_loss: 0.6078\n",
      "Epoch 8/10\n",
      "\u001b[1m282/282\u001b[0m \u001b[32m━━━━━━━━━━━━━━━━━━━━\u001b[0m\u001b[37m\u001b[0m \u001b[1m4s\u001b[0m 15ms/step - accuracy: 0.9679 - loss: 0.0819 - val_accuracy: 0.8338 - val_loss: 0.6628\n",
      "Epoch 9/10\n",
      "\u001b[1m282/282\u001b[0m \u001b[32m━━━━━━━━━━━━━━━━━━━━\u001b[0m\u001b[37m\u001b[0m \u001b[1m4s\u001b[0m 16ms/step - accuracy: 0.9701 - loss: 0.0735 - val_accuracy: 0.8292 - val_loss: 0.7070\n",
      "Epoch 10/10\n",
      "\u001b[1m282/282\u001b[0m \u001b[32m━━━━━━━━━━━━━━━━━━━━\u001b[0m\u001b[37m\u001b[0m \u001b[1m4s\u001b[0m 15ms/step - accuracy: 0.9716 - loss: 0.0652 - val_accuracy: 0.8350 - val_loss: 0.7187\n"
     ]
    }
   ],
   "source": [
    "# STEP 5: Train (with smaller batch size to avoid OOM)\n",
    "history = model.fit(X_train, y_train, epochs=10, batch_size=128, validation_split=0.1)"
   ]
  },
  {
   "cell_type": "code",
   "execution_count": 11,
   "id": "3a7aacd2",
   "metadata": {},
   "outputs": [
    {
     "name": "stdout",
     "output_type": "stream",
     "text": [
      "\u001b[1m313/313\u001b[0m \u001b[32m━━━━━━━━━━━━━━━━━━━━\u001b[0m\u001b[37m\u001b[0m \u001b[1m1s\u001b[0m 3ms/step\n",
      "              precision    recall  f1-score   support\n",
      "\n",
      "           0       0.88      0.91      0.90      8503\n",
      "           1       0.40      0.32      0.35      1497\n",
      "\n",
      "    accuracy                           0.83     10000\n",
      "   macro avg       0.64      0.62      0.63     10000\n",
      "weighted avg       0.81      0.83      0.82     10000\n",
      "\n"
     ]
    }
   ],
   "source": [
    "# Predict & Evaluate\n",
    "y_pred = (model.predict(X_test) > 0.5).astype(\"int32\")\n",
    "print(classification_report(y_test, y_pred))"
   ]
  },
  {
   "cell_type": "code",
   "execution_count": 12,
   "id": "b8d7b2c1",
   "metadata": {},
   "outputs": [
    {
     "data": {
      "image/png": "[encoded data removed]",
      "text/plain": [
       "<Figure size 640x480 with 2 Axes>"
      ]
     },
     "metadata": {},
     "output_type": "display_data"
    }
   ],
   "source": [
    "from sklearn.metrics import confusion_matrix, ConfusionMatrixDisplay\n",
    "\n",
    "# Generate confusion matrix\n",
    "cm = confusion_matrix(y_test, y_pred, labels=[0, 1])\n",
    "\n",
    "# Plot confusion matrix\n",
    "disp = ConfusionMatrixDisplay(confusion_matrix=cm, display_labels=[\"Safe\", \"Vuln\"])\n",
    "disp.plot(cmap='Blues')\n",
    "plt.title(\"Confusion Matrix - MLP\")\n",
    "plt.show()"
   ]
  },
  {
   "cell_type": "code",
   "execution_count": null,
   "id": "ab1e7f59",
   "metadata": {},
   "outputs": [
    {
     "data": {
      "image/png": "[encoded data removed]",
      "text/plain": [
       "<Figure size 640x480 with 1 Axes>"
      ]
     },
     "metadata": {},
     "output_type": "display_data"
    }
   ],
   "source": [
    "# Plotting graphs for MLP\n",
    "import seaborn as sns\n",
    "\n",
    "# Count plot for predicted labels\n",
    "ax = sns.countplot(x=y_pred.flatten())\n",
    "plt.title(\"Predicted Class Distribution - MLP\")\n",
    "plt.xlabel(\"Predicted Class\")\n",
    "plt.ylabel(\"Count\")\n",
    "plt.xticks([0, 1], [\"Safe\", \"Vuln\"])\n",
    "\n",
    "# Add value labels\n",
    "for p in ax.patches:\n",
    "    ax.annotate(f'{p.get_height()}', (p.get_x() + p.get_width() / 2., p.get_height()),\n",
    "                ha='center', va='bottom')\n",
    "\n",
    "plt.show()"
   ]
  },
  {
   "cell_type": "code",
   "execution_count": null,
   "id": "7d7c097f",
   "metadata": {},
   "outputs": [
    {
     "data": {
      "image/png": "[encoded data removed]",
      "text/plain": [
       "<Figure size 640x480 with 1 Axes>"
      ]
     },
     "metadata": {},
     "output_type": "display_data"
    },
    {
     "ename": "",
     "evalue": "",
     "output_type": "error",
     "traceback": [
      "\u001b[1;31mThe Kernel crashed while executing code in the current cell or a previous cell. \n",
      "\u001b[1;31mPlease review the code in the cell(s) to identify a possible cause of the failure. \n",
      "\u001b[1;31mClick <a href='https://aka.ms/vscodeJupyterKernelCrash'>here</a> for more info. \n",
      "\u001b[1;31mView Jupyter <a href='command:jupyter.viewOutput'>log</a> for further details."
     ]
    }
   ],
   "source": [
    "# Plotting graphs for MLP\n",
    "from sklearn.metrics import classification_report\n",
    "import pandas as pd\n",
    "import matplotlib.pyplot as plt\n",
    "\n",
    "# Generate report and extract class 0 and 1\n",
    "report = classification_report(y_test, y_pred, output_dict=True)\n",
    "df_report = pd.DataFrame(report).transpose()\n",
    "metrics = df_report.loc[[\"0\", \"1\"], [\"precision\", \"recall\", \"f1-score\"]]\n",
    "\n",
    "# Plot\n",
    "ax = metrics.plot(kind='bar')\n",
    "plt.title(\"Precision, Recall, F1-score by Class\")\n",
    "plt.xticks([0, 1], [\"Safe (0)\", \"Vuln (1)\"], rotation=0)\n",
    "plt.ylim(0, 1)\n",
    "plt.grid(axis='y')\n",
    "\n",
    "# Add values on bars\n",
    "for p in ax.patches:\n",
    "    ax.annotate(f'{p.get_height():.2f}', (p.get_x() + p.get_width() / 2., p.get_height() + 0.02),\n",
    "                ha='center', va='bottom')\n",
    "\n",
    "plt.show()\n"
   ]
  }
 ],
 "metadata": {
  "kernelspec": {
   "display_name": "vulnml",
   "language": "python",
   "name": "python3"
  },
  "language_info": {
   "codemirror_mode": {
    "name": "ipython",
    "version": 3
   },
   "file_extension": ".py",
   "mimetype": "text/x-python",
   "name": "python",
   "nbconvert_exporter": "python",
   "pygments_lexer": "ipython3",
   "version": "3.10.16"
  }
 },
 "nbformat": 4,
 "nbformat_minor": 5
}
