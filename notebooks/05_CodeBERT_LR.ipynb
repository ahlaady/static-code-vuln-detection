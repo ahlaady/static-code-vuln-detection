{
 "cells": [
  {
   "cell_type": "markdown",
   "id": "92e15803",
   "metadata": {},
   "source": [
    "# CodeBERT + Logistic Regression for Vulnerability Detection\n",
    "\n",
    "This script uses CodeBERT embeddings as semantic representations of code functions from the DiverseVul dataset, followed by a Logistic Regression classifier for binary vulnerability detection.\n",
    "\n",
    "Steps:\n",
    "1. Load and sample the DiverseVul dataset\n",
    "2. Extract CodeBERT embeddings for each function\n",
    "3. Train a Logistic Regression classifier\n",
    "4. Evaluate performance with metrics and visualizations"
   ]
  },
  {
   "cell_type": "code",
   "execution_count": null,
   "id": "fe1674db",
   "metadata": {},
   "outputs": [],
   "source": [
    "# Import Required Libraries\n",
    "from transformers import RobertaTokenizer, RobertaModel\n",
    "import torch\n",
    "import pandas as pd\n",
    "import numpy as np\n",
    "from tqdm import tqdm\n",
    "from sklearn.linear_model import LogisticRegression\n",
    "from sklearn.model_selection import train_test_split\n",
    "from sklearn.metrics import classification_report, ConfusionMatrixDisplay\n",
    "import matplotlib.pyplot as plt"
   ]
  },
  {
   "cell_type": "code",
   "execution_count": null,
   "id": "c2b9d9d6",
   "metadata": {},
   "outputs": [
    {
     "data": {
      "text/html": [
       "<div>\n",
       "<style scoped>\n",
       "    .dataframe tbody tr th:only-of-type {\n",
       "        vertical-align: middle;\n",
       "    }\n",
       "\n",
       "    .dataframe tbody tr th {\n",
       "        vertical-align: top;\n",
       "    }\n",
       "\n",
       "    .dataframe thead th {\n",
       "        text-align: right;\n",
       "    }\n",
       "</style>\n",
       "<table border=\"1\" class=\"dataframe\">\n",
       "  <thead>\n",
       "    <tr style=\"text-align: right;\">\n",
       "      <th></th>\n",
       "      <th>func</th>\n",
       "      <th>target</th>\n",
       "      <th>cwe</th>\n",
       "      <th>project</th>\n",
       "      <th>commit_id</th>\n",
       "      <th>hash</th>\n",
       "      <th>size</th>\n",
       "      <th>message</th>\n",
       "    </tr>\n",
       "  </thead>\n",
       "  <tbody>\n",
       "    <tr>\n",
       "      <th>0</th>\n",
       "      <td>int _gnutls_ciphertext2compressed(gnutls_sessi...</td>\n",
       "      <td>1</td>\n",
       "      <td>[]</td>\n",
       "      <td>gnutls</td>\n",
       "      <td>7ad6162573ba79a4392c63b453ad0220ca6c5ace</td>\n",
       "      <td>73008646937836648589283922871188272089</td>\n",
       "      <td>157</td>\n",
       "      <td>added an extra check while checking the padding.</td>\n",
       "    </tr>\n",
       "    <tr>\n",
       "      <th>1</th>\n",
       "      <td>static char *make_filename_safe(const char *fi...</td>\n",
       "      <td>1</td>\n",
       "      <td>[CWE-264]</td>\n",
       "      <td>php-src</td>\n",
       "      <td>055ecbc62878e86287d742c7246c21606cee8183</td>\n",
       "      <td>211824207069112513181516095447837228041</td>\n",
       "      <td>22</td>\n",
       "      <td>Improve check for :memory: pseudo-filename in ...</td>\n",
       "    </tr>\n",
       "    <tr>\n",
       "      <th>2</th>\n",
       "      <td>unpack_Z_stream(int fd_in, int fd_out)\\n{\\n\\tI...</td>\n",
       "      <td>1</td>\n",
       "      <td>[]</td>\n",
       "      <td>busybox</td>\n",
       "      <td>251fc70e9722f931eec23a34030d05ba5f747b0e</td>\n",
       "      <td>21401706257394042943815500829552774160</td>\n",
       "      <td>232</td>\n",
       "      <td>uncompress: fix buffer underrun by corrupted i...</td>\n",
       "    </tr>\n",
       "    <tr>\n",
       "      <th>3</th>\n",
       "      <td>static void cirrus_do_copy(CirrusVGAState *s, ...</td>\n",
       "      <td>1</td>\n",
       "      <td>[CWE-787]</td>\n",
       "      <td>qemu</td>\n",
       "      <td>b2eb849d4b1fdb6f35d5c46958c7f703cf64cfef</td>\n",
       "      <td>135590882627853658533498335902319684573</td>\n",
       "      <td>66</td>\n",
       "      <td>CVE-2007-1320 - Cirrus LGD-54XX \"bitblt\" heap ...</td>\n",
       "    </tr>\n",
       "    <tr>\n",
       "      <th>4</th>\n",
       "      <td>glue(cirrus_bitblt_rop_fwd_, ROP_NAME)(CirrusV...</td>\n",
       "      <td>1</td>\n",
       "      <td>[CWE-787]</td>\n",
       "      <td>qemu</td>\n",
       "      <td>b2eb849d4b1fdb6f35d5c46958c7f703cf64cfef</td>\n",
       "      <td>27696392987383562433164405181263025184</td>\n",
       "      <td>18</td>\n",
       "      <td>CVE-2007-1320 - Cirrus LGD-54XX \"bitblt\" heap ...</td>\n",
       "    </tr>\n",
       "  </tbody>\n",
       "</table>\n",
       "</div>"
      ],
      "text/plain": [
       "                                                func  target        cwe  \\\n",
       "0  int _gnutls_ciphertext2compressed(gnutls_sessi...       1         []   \n",
       "1  static char *make_filename_safe(const char *fi...       1  [CWE-264]   \n",
       "2  unpack_Z_stream(int fd_in, int fd_out)\\n{\\n\\tI...       1         []   \n",
       "3  static void cirrus_do_copy(CirrusVGAState *s, ...       1  [CWE-787]   \n",
       "4  glue(cirrus_bitblt_rop_fwd_, ROP_NAME)(CirrusV...       1  [CWE-787]   \n",
       "\n",
       "   project                                 commit_id  \\\n",
       "0   gnutls  7ad6162573ba79a4392c63b453ad0220ca6c5ace   \n",
       "1  php-src  055ecbc62878e86287d742c7246c21606cee8183   \n",
       "2  busybox  251fc70e9722f931eec23a34030d05ba5f747b0e   \n",
       "3     qemu  b2eb849d4b1fdb6f35d5c46958c7f703cf64cfef   \n",
       "4     qemu  b2eb849d4b1fdb6f35d5c46958c7f703cf64cfef   \n",
       "\n",
       "                                      hash  size  \\\n",
       "0   73008646937836648589283922871188272089   157   \n",
       "1  211824207069112513181516095447837228041    22   \n",
       "2   21401706257394042943815500829552774160   232   \n",
       "3  135590882627853658533498335902319684573    66   \n",
       "4   27696392987383562433164405181263025184    18   \n",
       "\n",
       "                                             message  \n",
       "0   added an extra check while checking the padding.  \n",
       "1  Improve check for :memory: pseudo-filename in ...  \n",
       "2  uncompress: fix buffer underrun by corrupted i...  \n",
       "3  CVE-2007-1320 - Cirrus LGD-54XX \"bitblt\" heap ...  \n",
       "4  CVE-2007-1320 - Cirrus LGD-54XX \"bitblt\" heap ...  "
      ]
     },
     "execution_count": 5,
     "metadata": {},
     "output_type": "execute_result"
    }
   ],
   "source": [
    "import json\n",
    "\n",
    "# Loading the JSON file\n",
    "file_path = \"...diversevul_20230702.json\"       # TODO: Update this path before running\n",
    "\n",
    "# Load JSONL format line by line\n",
    "data = []\n",
    "with open(file_path, \"r\", encoding=\"utf-8\") as f:\n",
    "    for line in f:\n",
    "        data.append(json.loads(line))\n",
    "\n",
    "# Inspect dataset quickly\n",
    "df = pd.DataFrame(data)\n",
    "df.head()"
   ]
  },
  {
   "cell_type": "code",
   "execution_count": null,
   "id": "9e59f5a6",
   "metadata": {},
   "outputs": [],
   "source": [
    "# Due to GPU contstraints of my PC, running the model on 100k samples. Feel free to adjust the samples based on GPU power available.\n",
    "# Sample balanced dataset (85K safe, 15K vulnerable)\n",
    "\n",
    "safe_df = df[df['target'] == 0].sample(85000, random_state=42)\n",
    "vuln_df = df[df['target'] == 1].sample(15000, random_state=42)\n",
    "df_100k = pd.concat([safe_df, vuln_df]).sample(frac=1, random_state=42)"
   ]
  },
  {
   "cell_type": "code",
   "execution_count": null,
   "id": "c01577c3",
   "metadata": {},
   "outputs": [
    {
     "data": {
      "text/plain": [
       "RobertaModel(\n",
       "  (embeddings): RobertaEmbeddings(\n",
       "    (word_embeddings): Embedding(50265, 768, padding_idx=1)\n",
       "    (position_embeddings): Embedding(514, 768, padding_idx=1)\n",
       "    (token_type_embeddings): Embedding(1, 768)\n",
       "    (LayerNorm): LayerNorm((768,), eps=1e-05, elementwise_affine=True)\n",
       "    (dropout): Dropout(p=0.1, inplace=False)\n",
       "  )\n",
       "  (encoder): RobertaEncoder(\n",
       "    (layer): ModuleList(\n",
       "      (0-11): 12 x RobertaLayer(\n",
       "        (attention): RobertaAttention(\n",
       "          (self): RobertaSdpaSelfAttention(\n",
       "            (query): Linear(in_features=768, out_features=768, bias=True)\n",
       "            (key): Linear(in_features=768, out_features=768, bias=True)\n",
       "            (value): Linear(in_features=768, out_features=768, bias=True)\n",
       "            (dropout): Dropout(p=0.1, inplace=False)\n",
       "          )\n",
       "          (output): RobertaSelfOutput(\n",
       "            (dense): Linear(in_features=768, out_features=768, bias=True)\n",
       "            (LayerNorm): LayerNorm((768,), eps=1e-05, elementwise_affine=True)\n",
       "            (dropout): Dropout(p=0.1, inplace=False)\n",
       "          )\n",
       "        )\n",
       "        (intermediate): RobertaIntermediate(\n",
       "          (dense): Linear(in_features=768, out_features=3072, bias=True)\n",
       "          (intermediate_act_fn): GELUActivation()\n",
       "        )\n",
       "        (output): RobertaOutput(\n",
       "          (dense): Linear(in_features=3072, out_features=768, bias=True)\n",
       "          (LayerNorm): LayerNorm((768,), eps=1e-05, elementwise_affine=True)\n",
       "          (dropout): Dropout(p=0.1, inplace=False)\n",
       "        )\n",
       "      )\n",
       "    )\n",
       "  )\n",
       "  (pooler): RobertaPooler(\n",
       "    (dense): Linear(in_features=768, out_features=768, bias=True)\n",
       "    (activation): Tanh()\n",
       "  )\n",
       ")"
      ]
     },
     "execution_count": 7,
     "metadata": {},
     "output_type": "execute_result"
    }
   ],
   "source": [
    "# Load CodeBERT (Microsoft's pretrained model)\n",
    "# Microsoft's CodeBERT (trained on NL-PL pairs) is used for feature extraction\n",
    "\n",
    "tokenizer = RobertaTokenizer.from_pretrained(\"microsoft/codebert-base\")\n",
    "model = RobertaModel.from_pretrained(\"microsoft/codebert-base\")\n",
    "model.eval()  # inference mode only"
   ]
  },
  {
   "cell_type": "code",
   "execution_count": null,
   "id": "b89ac51e",
   "metadata": {},
   "outputs": [
    {
     "data": {
      "text/plain": [
       "RobertaModel(\n",
       "  (embeddings): RobertaEmbeddings(\n",
       "    (word_embeddings): Embedding(50265, 768, padding_idx=1)\n",
       "    (position_embeddings): Embedding(514, 768, padding_idx=1)\n",
       "    (token_type_embeddings): Embedding(1, 768)\n",
       "    (LayerNorm): LayerNorm((768,), eps=1e-05, elementwise_affine=True)\n",
       "    (dropout): Dropout(p=0.1, inplace=False)\n",
       "  )\n",
       "  (encoder): RobertaEncoder(\n",
       "    (layer): ModuleList(\n",
       "      (0-11): 12 x RobertaLayer(\n",
       "        (attention): RobertaAttention(\n",
       "          (self): RobertaSdpaSelfAttention(\n",
       "            (query): Linear(in_features=768, out_features=768, bias=True)\n",
       "            (key): Linear(in_features=768, out_features=768, bias=True)\n",
       "            (value): Linear(in_features=768, out_features=768, bias=True)\n",
       "            (dropout): Dropout(p=0.1, inplace=False)\n",
       "          )\n",
       "          (output): RobertaSelfOutput(\n",
       "            (dense): Linear(in_features=768, out_features=768, bias=True)\n",
       "            (LayerNorm): LayerNorm((768,), eps=1e-05, elementwise_affine=True)\n",
       "            (dropout): Dropout(p=0.1, inplace=False)\n",
       "          )\n",
       "        )\n",
       "        (intermediate): RobertaIntermediate(\n",
       "          (dense): Linear(in_features=768, out_features=3072, bias=True)\n",
       "          (intermediate_act_fn): GELUActivation()\n",
       "        )\n",
       "        (output): RobertaOutput(\n",
       "          (dense): Linear(in_features=3072, out_features=768, bias=True)\n",
       "          (LayerNorm): LayerNorm((768,), eps=1e-05, elementwise_affine=True)\n",
       "          (dropout): Dropout(p=0.1, inplace=False)\n",
       "        )\n",
       "      )\n",
       "    )\n",
       "  )\n",
       "  (pooler): RobertaPooler(\n",
       "    (dense): Linear(in_features=768, out_features=768, bias=True)\n",
       "    (activation): Tanh()\n",
       "  )\n",
       ")"
      ]
     },
     "execution_count": 8,
     "metadata": {},
     "output_type": "execute_result"
    }
   ],
   "source": [
    "# Move model to GPU if available\n",
    "import torch\n",
    "device = torch.device(\"cuda\" if torch.cuda.is_available() else \"cpu\")\n",
    "model.to(device)"
   ]
  },
  {
   "cell_type": "code",
   "execution_count": null,
   "id": "982385fa",
   "metadata": {},
   "outputs": [],
   "source": [
    "# Using a 20K sample for faster processing (adjust if hardware allows)\n",
    "sample_df = df_100k.sample(20000, random_state=42)\n",
    "texts = sample_df[\"func\"].tolist()\n",
    "labels = sample_df[\"target\"].tolist()"
   ]
  },
  {
   "cell_type": "code",
   "execution_count": null,
   "id": "2253bc2b",
   "metadata": {},
   "outputs": [
    {
     "name": "stderr",
     "output_type": "stream",
     "text": [
      "100%|██████████| 20000/20000 [04:37<00:00, 72.08it/s]\n"
     ]
    }
   ],
   "source": [
    "# Generate CodeBERT Embeddings\n",
    "# Extract [CLS] token embedding (representing the whole function)\n",
    "\n",
    "embeddings = []\n",
    "\n",
    "with torch.no_grad():\n",
    "    for code in tqdm(texts):\n",
    "        inputs = tokenizer(code, return_tensors=\"pt\", max_length=512, truncation=True, padding=\"max_length\")\n",
    "        inputs = {key: val.to(device) for key, val in inputs.items()}  # Move inputs to GPU\n",
    "        outputs = model(**inputs)\n",
    "        cls_embedding = outputs.last_hidden_state[:, 0, :].squeeze().cpu().numpy()  # Move to CPU\n",
    "        embeddings.append(cls_embedding)\n",
    "\n",
    "X = np.array(embeddings)\n",
    "y = np.array(labels)"
   ]
  },
  {
   "cell_type": "code",
   "execution_count": null,
   "id": "98822f0a",
   "metadata": {},
   "outputs": [
    {
     "name": "stdout",
     "output_type": "stream",
     "text": [
      "              precision    recall  f1-score   support\n",
      "\n",
      "           0       0.92      0.68      0.78      3400\n",
      "           1       0.27      0.67      0.38       600\n",
      "\n",
      "    accuracy                           0.68      4000\n",
      "   macro avg       0.59      0.67      0.58      4000\n",
      "weighted avg       0.82      0.68      0.72      4000\n",
      "\n"
     ]
    }
   ],
   "source": [
    "# Train/Test Split\n",
    "X_train, X_test, y_train, y_test = train_test_split(\n",
    "    X, y, test_size=0.2, stratify=y, random_state=42\n",
    ")\n",
    "\n",
    "# Logistic Regression Classifier\n",
    "clf = LogisticRegression(class_weight='balanced', max_iter=1000, random_state=42)\n",
    "clf.fit(X_train, y_train)\n",
    "y_pred = clf.predict(X_test)\n",
    "\n",
    "print(classification_report(y_test, y_pred))"
   ]
  },
  {
   "cell_type": "code",
   "execution_count": null,
   "id": "ffbdd46d",
   "metadata": {},
   "outputs": [
    {
     "data": {
      "image/png": "[encoded data removed]",
      "text/plain": [
       "<Figure size 640x480 with 2 Axes>"
      ]
     },
     "metadata": {},
     "output_type": "display_data"
    }
   ],
   "source": [
    "# Confusion Matrix\n",
    "disp = ConfusionMatrixDisplay.from_estimator(clf, X_test, y_test, display_labels=[\"Safe\", \"Vuln\"], cmap='Blues')\n",
    "plt.title(\"Confusion Matrix - Logistic Regression\")\n",
    "plt.show()\n"
   ]
  },
  {
   "cell_type": "code",
   "execution_count": null,
   "id": "31679af2",
   "metadata": {},
   "outputs": [
    {
     "data": {
      "image/png": "[encoded data removed]",
      "text/plain": [
       "<Figure size 640x480 with 1 Axes>"
      ]
     },
     "metadata": {},
     "output_type": "display_data"
    }
   ],
   "source": [
    "# Plotting graphs for CodeBERT LR\n",
    "import seaborn as sns\n",
    "import matplotlib.pyplot as plt\n",
    "import pandas as pd\n",
    "\n",
    "ax=sns.countplot(x=y_pred)\n",
    "plt.title(\"Predicted Class Distribution\")\n",
    "plt.xlabel(\"Predicted Class\")\n",
    "plt.ylabel(\"Count\")\n",
    "plt.xticks([0, 1], [\"Safe\", \"Vuln\"])\n",
    "\n",
    "for p in ax.patches:\n",
    "    ax.annotate(f'{p.get_height()}', (p.get_x() + p.get_width() / 2., p.get_height()),\n",
    "                ha='center', va='bottom')\n",
    "\n",
    "plt.show()"
   ]
  },
  {
   "cell_type": "code",
   "execution_count": null,
   "id": "b6484fcb",
   "metadata": {},
   "outputs": [
    {
     "data": {
      "image/png": "[encoded data removed]",
      "text/plain": [
       "<Figure size 640x480 with 1 Axes>"
      ]
     },
     "metadata": {},
     "output_type": "display_data"
    }
   ],
   "source": [
    "# Plotting graphs for CodeBERT LR\n",
    "from sklearn.metrics import classification_report\n",
    "import pandas as pd\n",
    "import matplotlib.pyplot as plt\n",
    "\n",
    "# Generate report and extract class 0 and 1\n",
    "report = classification_report(y_test, y_pred, output_dict=True)\n",
    "df_report = pd.DataFrame(report).transpose()\n",
    "metrics = df_report.loc[[\"0\", \"1\"], [\"precision\", \"recall\", \"f1-score\"]]\n",
    "\n",
    "# Plot\n",
    "ax = metrics.plot(kind='bar')\n",
    "plt.title(\"Precision, Recall, F1-score by Class\")\n",
    "plt.xticks([0, 1], [\"Safe (0)\", \"Vuln (1)\"], rotation=0)\n",
    "plt.ylim(0, 1)\n",
    "plt.grid(axis='y')\n",
    "\n",
    "# Add values on bars\n",
    "for p in ax.patches:\n",
    "    ax.annotate(f'{p.get_height():.2f}', (p.get_x() + p.get_width() / 2., p.get_height() + 0.02),\n",
    "                ha='center', va='bottom')\n",
    "\n",
    "plt.show()\n"
   ]
  },
  {
   "cell_type": "code",
   "execution_count": null,
   "id": "2210dccd",
   "metadata": {},
   "outputs": [],
   "source": []
  }
 ],
 "metadata": {
  "kernelspec": {
   "display_name": "vulnml",
   "language": "python",
   "name": "python3"
  },
  "language_info": {
   "codemirror_mode": {
    "name": "ipython",
    "version": 3
   },
   "file_extension": ".py",
   "mimetype": "text/x-python",
   "name": "python",
   "nbconvert_exporter": "python",
   "pygments_lexer": "ipython3",
   "version": "3.10.16"
  }
 },
 "nbformat": 4,
 "nbformat_minor": 5
}
